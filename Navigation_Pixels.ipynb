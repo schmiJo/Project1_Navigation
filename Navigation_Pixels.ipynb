{
 "cells": [
  {
   "cell_type": "markdown",
   "metadata": {},
   "source": [
    "# Navigation\n",
    "\n",
    "---\n",
    "\n",
    "Congratulations for completing the first project of the [Deep Reinforcement Learning Nanodegree](https://www.udacity.com/course/deep-reinforcement-learning-nanodegree--nd893)!  In this notebook, you will learn how to control an agent in a more challenging environment, where it can learn directly from raw pixels!  **Note that this exercise is optional!**\n",
    "\n",
    "### 1. Start the Environment\n",
    "\n",
    "We begin by importing some necessary packages.  If the code cell below returns an error, please revisit the project instructions to double-check that you have installed [Unity ML-Agents](https://github.com/Unity-Technologies/ml-agents/blob/master/docs/Installation.md) and [NumPy](http://www.numpy.org/)."
   ]
  },
  {
   "cell_type": "code",
   "execution_count": 1,
   "metadata": {},
   "outputs": [],
   "source": [
    "from unityagents import UnityEnvironment\n",
    "import numpy as np\n",
    "import matplotlib.pyplot as plt\n",
    "%matplotlib inline"
   ]
  },
  {
   "cell_type": "markdown",
   "metadata": {},
   "source": [
    "Next, we will start the environment!  **_Before running the code cell below_**, change the `file_name` parameter to match the location of the Unity environment that you downloaded.\n",
    "\n",
    "- **Mac**: `\"path/to/VisualBanana.app\"`\n",
    "- **Windows** (x86): `\"path/to/VisualBanana_Windows_x86/Banana.exe\"`\n",
    "- **Windows** (x86_64): `\"path/to/VisualBanana_Windows_x86_64/Banana.exe\"`\n",
    "- **Linux** (x86): `\"path/to/VisualBanana_Linux/Banana.x86\"`\n",
    "- **Linux** (x86_64): `\"path/to/VisualBanana_Linux/Banana.x86_64\"`\n",
    "- **Linux** (x86, headless): `\"path/to/VisualBanana_Linux_NoVis/Banana.x86\"`\n",
    "- **Linux** (x86_64, headless): `\"path/to/VisualBanana_Linux_NoVis/Banana.x86_64\"`\n",
    "\n",
    "For instance, if you are using a Mac, then you downloaded `VisualBanana.app`.  If this file is in the same folder as the notebook, then the line below should appear as follows:\n",
    "```\n",
    "env = UnityEnvironment(file_name=\"VisualBanana.app\")\n",
    "```"
   ]
  },
  {
   "cell_type": "code",
   "execution_count": 2,
   "metadata": {},
   "outputs": [
    {
     "name": "stderr",
     "output_type": "stream",
     "text": [
      "INFO:unityagents:\n",
      "'Academy' started successfully!\n",
      "Unity Academy name: Academy\n",
      "        Number of Brains: 1\n",
      "        Number of External Brains : 1\n",
      "        Lesson number : 0\n",
      "        Reset Parameters :\n",
      "\t\t\n",
      "Unity brain name: BananaBrain\n",
      "        Number of Visual Observations (per agent): 1\n",
      "        Vector Observation space type: continuous\n",
      "        Vector Observation space size (per agent): 0\n",
      "        Number of stacked Vector Observation: 1\n",
      "        Vector Action space type: discrete\n",
      "        Vector Action space size (per agent): 4\n",
      "        Vector Action descriptions: , , , \n"
     ]
    }
   ],
   "source": [
    "env = UnityEnvironment(file_name=\"./VisualBanana.app\")"
   ]
  },
  {
   "cell_type": "markdown",
   "metadata": {},
   "source": [
    "Environments contain **_brains_** which are responsible for deciding the actions of their associated agents. Here we check for the first brain available, and set it as the default brain we will be controlling from Python."
   ]
  },
  {
   "cell_type": "code",
   "execution_count": 3,
   "metadata": {},
   "outputs": [],
   "source": [
    "# get the default brain\n",
    "brain_name = env.brain_names[0]\n",
    "brain = env.brains[brain_name]"
   ]
  },
  {
   "cell_type": "markdown",
   "metadata": {},
   "source": [
    "### 2. Examine the State and Action Spaces\n",
    "\n",
    "The simulation contains a single agent that navigates a large environment.  At each time step, it has four actions at its disposal:\n",
    "- `0` - walk forward \n",
    "- `1` - walk backward\n",
    "- `2` - turn left\n",
    "- `3` - turn right\n",
    "\n",
    "The environment state is an array of raw pixels with shape `(1, 84, 84, 3)`.  *Note that this code differs from the notebook for the project, where we are grabbing **`visual_observations`** (the raw pixels) instead of **`vector_observations`**.* A reward of `+1` is provided for collecting a yellow banana, and a reward of `-1` is provided for collecting a blue banana. \n",
    "\n",
    "Run the code cell below to print some information about the environment."
   ]
  },
  {
   "cell_type": "code",
   "execution_count": 12,
   "metadata": {},
   "outputs": [
    {
     "name": "stdout",
     "output_type": "stream",
     "text": [
      "Number of agents: 1\n",
      "Number of actions: 4\n",
      "[[array([0.83921569, 0.7254902 , 0.59215686]), array([0.83921569, 0.7254902 , 0.59215686]), array([0.83921569, 0.7254902 , 0.59215686]), array([0.83921569, 0.7254902 , 0.59215686]), array([0.83921569, 0.7254902 , 0.59215686]), array([0.83921569, 0.7254902 , 0.59215686]), array([0.83921569, 0.7254902 , 0.59215686]), array([0.83921569, 0.7254902 , 0.59215686]), array([0.83921569, 0.7254902 , 0.59215686]), array([0.83921569, 0.7254902 , 0.59215686]), array([0.83921569, 0.7254902 , 0.59215686]), array([0.83921569, 0.7254902 , 0.59215686]), array([0.83921569, 0.7254902 , 0.59215686]), array([0.83921569, 0.7254902 , 0.59215686]), array([0.83921569, 0.7254902 , 0.59215686]), array([0.83921569, 0.7254902 , 0.59215686]), array([0.83921569, 0.7254902 , 0.59215686]), array([0.83921569, 0.7254902 , 0.59215686]), array([0.83921569, 0.7254902 , 0.59215686]), array([0.83921569, 0.7254902 , 0.59215686]), array([0.83921569, 0.7254902 , 0.59215686]), array([0.83921569, 0.7254902 , 0.59215686]), array([0.83921569, 0.7254902 , 0.59215686]), array([0.83921569, 0.7254902 , 0.59215686]), array([0.83921569, 0.7254902 , 0.59215686]), array([0.83921569, 0.7254902 , 0.59215686]), array([0.83921569, 0.7254902 , 0.59215686]), array([0.83921569, 0.7254902 , 0.59215686]), array([0.83921569, 0.7254902 , 0.59215686]), array([0.83921569, 0.7254902 , 0.59215686]), array([0.83921569, 0.7254902 , 0.59215686]), array([0.83921569, 0.7254902 , 0.59215686]), array([0.85098039, 0.72156863, 0.55294118]), array([0.8627451 , 0.7372549 , 0.58431373]), array([0.82352941, 0.70980392, 0.58431373]), array([0.83529412, 0.73333333, 0.64313725]), array([0.80392157, 0.71764706, 0.6627451 ]), array([0.51372549, 0.44705882, 0.40784314]), array([0.50588235, 0.45490196, 0.42352941]), array([0.49019608, 0.45490196, 0.41960784]), array([0.4745098 , 0.45882353, 0.41176471]), array([0.49019608, 0.48235294, 0.42352941]), array([0.47058824, 0.4627451 , 0.40392157]), array([0.45882353, 0.45098039, 0.39215686]), array([0.49803922, 0.48235294, 0.43529412]), array([0.50980392, 0.49411765, 0.45882353]), array([0.48627451, 0.45490196, 0.44313725]), array([0.45882353, 0.42745098, 0.41960784]), array([0.57254902, 0.49803922, 0.48235294]), array([0.56470588, 0.49019608, 0.46666667]), array([0.55294118, 0.48235294, 0.43529412]), array([0.54901961, 0.48235294, 0.41176471]), array([0.54117647, 0.47843137, 0.38823529]), array([0.5372549 , 0.4745098 , 0.37254902]), array([0.5254902 , 0.4627451 , 0.36470588]), array([0.51764706, 0.45490196, 0.36470588]), array([0.50588235, 0.43921569, 0.36862745]), array([0.50196078, 0.43137255, 0.37647059]), array([0.49803922, 0.42745098, 0.38039216]), array([0.49019608, 0.41960784, 0.36470588]), array([0.48235294, 0.41568627, 0.34509804]), array([0.4745098 , 0.41176471, 0.32156863]), array([0.47058824, 0.40784314, 0.30588235]), array([0.46666667, 0.40784314, 0.29411765]), array([0.45098039, 0.39607843, 0.15686275]), array([0.50980392, 0.42352941, 0.27843137]), array([0.43921569, 0.32156863, 0.28235294]), array([0.53333333, 0.39607843, 0.38039216]), array([0.43529412, 0.31372549, 0.2       ]), array([0.48235294, 0.4       , 0.15294118]), array([0.41960784, 0.38823529, 0.07058824]), array([0.43529412, 0.43137255, 0.18039216]), array([0.36470588, 0.37647059, 0.30196078]), array([0.35686275, 0.36470588, 0.4627451 ]), array([0.34117647, 0.34509804, 0.5254902 ]), array([0.36862745, 0.35294118, 0.49803922]), array([0.41960784, 0.37254902, 0.41960784]), array([0.44313725, 0.35686275, 0.30588235]), array([0.44313725, 0.31764706, 0.22745098]), array([0.47058824, 0.31372549, 0.21176471]), array([0.38823529, 0.3372549 , 0.2745098 ]), array([0.38823529, 0.3372549 , 0.2745098 ]), array([0.38823529, 0.3372549 , 0.2745098 ]), array([0.38431373, 0.33333333, 0.27058824])]]\n"
     ]
    },
    {
     "data": {
      "image/png": "[encoded data removed]",
      "text/plain": [
       "<Figure size 432x288 with 1 Axes>"
      ]
     },
     "metadata": {
      "needs_background": "light"
     },
     "output_type": "display_data"
    },
    {
     "name": "stdout",
     "output_type": "stream",
     "text": [
      "States look like:\n"
     ]
    },
    {
     "data": {
      "image/png": "[encoded data removed]",
      "text/plain": [
       "<Figure size 432x288 with 1 Axes>"
      ]
     },
     "metadata": {
      "needs_background": "light"
     },
     "output_type": "display_data"
    },
    {
     "name": "stdout",
     "output_type": "stream",
     "text": [
      "States have shape: (1, 84, 84, 3)\n"
     ]
    }
   ],
   "source": [
    "# reset the environment\n",
    "env_info = env.reset(train_mode=True)[brain_name]\n",
    "\n",
    "# number of agents in the environment\n",
    "print('Number of agents:', len(env_info.agents))\n",
    "\n",
    "# number of actions\n",
    "action_size = brain.vector_action_space_size\n",
    "print('Number of actions:', action_size)\n",
    "\n",
    "# examine the state space \n",
    "state = env_info.visual_observations[0]\n",
    "\n",
    "plt.imshow([[i[0] for i in a] for a in state])\n",
    "plt.show()\n",
    "print('States look like:')\n",
    "plt.imshow(np.squeeze(state))\n",
    "plt.show()\n",
    "state_size = state.shape\n",
    "print('States have shape:', state.shape)"
   ]
  },
  {
   "cell_type": "markdown",
   "metadata": {},
   "source": [
    "### 3. Take Random Actions in the Environment\n",
    "\n",
    "In the next code cell, you will learn how to use the Python API to control the agent and receive feedback from the environment.\n",
    "\n",
    "Once this cell is executed, you will watch the agent's performance, if it selects an action (uniformly) at random with each time step.  A window should pop up that allows you to observe the agent, as it moves through the environment.  \n",
    "\n",
    "Of course, you'll have to change the code so that the agent is able to use its experience to gradually choose better actions when interacting with the environment!"
   ]
  },
  {
   "cell_type": "code",
   "execution_count": null,
   "metadata": {},
   "outputs": [],
   "source": [
    "env_info = env.reset(train_mode=False)[brain_name] # reset the environment\n",
    "state = env_info.visual_observations[0]            # get the current state\n",
    "score = 0                                          # initialize the score\n",
    "while True:\n",
    "    action = np.random.randint(action_size)        # select an action\n",
    "    env_info = env.step(action)[brain_name]        # send the action to the environment\n",
    "    next_state = env_info.visual_observations[0]   # get the next state\n",
    "    reward = env_info.rewards[0]                   # get the reward\n",
    "    done = env_info.local_done[0]                  # see if episode has finished\n",
    "    score += reward                                # update the score\n",
    "    state = next_state                             # roll over the state to next time step\n",
    "    if done:                                       # exit loop if episode finished\n",
    "        break\n",
    "    \n",
    "print(\"Score: {}\".format(score))"
   ]
  },
  {
   "cell_type": "markdown",
   "metadata": {},
   "source": [
    "When finished, you can close the environment."
   ]
  },
  {
   "cell_type": "code",
   "execution_count": null,
   "metadata": {},
   "outputs": [],
   "source": [
    "env.close()"
   ]
  },
  {
   "cell_type": "markdown",
   "metadata": {},
   "source": [
    "### 4. It's Your Turn!\n",
    "\n",
    "Now it's your turn to train your own agent to solve the environment!  When training the environment, set `train_mode=True`, so that the line for resetting the environment looks like the following:\n",
    "```python\n",
    "env_info = env.reset(train_mode=True)[brain_name]\n",
    "```"
   ]
  },
  {
   "cell_type": "code",
   "execution_count": null,
   "metadata": {},
   "outputs": [],
   "source": [
    "import numpy as np\n",
    "from collections import deque\n",
    "import matplotlib.pyplot as plt\n",
    "from agent_pixels import Agent\n",
    "\n",
    "agent = Agent(state_size=37, action_size=4, seed = 0)\n",
    "\n",
    "def dqn(n_episodes=1000, max_action= 400, eps_start=1.0, eps_end=0.1, eps_decay=0.995):\n",
    "    \"\"\"Deep Q-Learning.\n",
    "    \n",
    "    Params\n",
    "    ======\n",
    "        n_episodes (int): maximum number of training episodes\n",
    "        max_action (int): maximum number of actions per episode\n",
    "        eps_start (float): starting value of epsilon, for epsilon-greedy action selection\n",
    "        eps_end (float): minimum value of epsilon\n",
    "        eps_decay (float): multiplicative factor (per episode) for decreasing epsilon\n",
    "    \"\"\"\n",
    "    scores = []\n",
    "    scores_window = deque(maxlen=100)\n",
    "    eps = eps_start\n",
    "    \n",
    "    \n",
    "    for i_episode in range(1,n_episodes+1):\n",
    "        \n",
    "    \n",
    "        #reset the environment for every episode and initialize the state\n",
    "        step_brain_info = env.reset(train_mode=i_episode % 100 != 0)[brain_name] # reset the environment\n",
    "        state = step_brain_info.vector_observations[0]   #obtain the starting state\n",
    "        \n",
    "        score = 0 #initialze the score for the episode\n",
    "        \n",
    "        \n",
    "        \n",
    "        for a in range(max_action):\n",
    "            action = agent.act(state, eps) # the agent chooses an action\n",
    "            \n",
    "            step_brain_info = env.step(action)[brain_name]\n",
    "            \n",
    "            next_state = step_brain_info.vector_observations[0]   # get the next state\n",
    "            reward = step_brain_info.rewards[0]                   # get the reward\n",
    "            done = step_brain_info.local_done[0]                  # see if episode has finished\n",
    "            score += reward      \n",
    "            \n",
    "            \n",
    "            agent.step(state, action, reward, next_state, done)\n",
    "            \n",
    "            state = next_state                             # roll over the state to next time step\n",
    "            if done:                     # exit loop if episode finished\n",
    "                break\n",
    "                \n",
    "            if env.global_done:\n",
    "                print('Global Done Steps: '+ str(a))\n",
    "                break\n",
    "                \n",
    "        \n",
    "        scores.append(score)\n",
    "        scores_window.append(score)       # save most recent score\n",
    "        eps = max(eps_end, eps_decay*eps) \n",
    "        print('\\rEpisode {}\\tAverage Score: {:.2f}'.format(i_episode, np.mean(scores_window)), end=\"\")\n",
    "        if i_episode % 100 == 0:\n",
    "            print('\\rEpisode {}\\tAverage Score: {:.2f}'.format(i_episode, np.mean(scores_window)))\n",
    "        if np.mean(scores_window)>=13.0:\n",
    "            print('\\nEnvironment solved in {:d} episodes!\\tAverage Score: {:.2f}'.format(i_episode-100, np.mean(scores_window)))\n",
    "            #torch.save(agent.qnetwork_local.state_dict(), 'checkpoint.pth')\n",
    "            break\n",
    "        \n",
    "    \n",
    "    return scores\n",
    "        \n",
    "scores =  dqn()\n",
    "# plot the scores\n",
    "fig = plt.figure()\n",
    "ax = fig.add_subplot(111)\n",
    "plt.plot(np.arange(len(scores)), scores)\n",
    "plt.ylabel('Score')\n",
    "plt.xlabel('Episode #')\n",
    "plt.show() "
   ]
  }
 ],
 "metadata": {
  "kernelspec": {
   "display_name": "drlnd",
   "language": "python",
   "name": "drlnd"
  },
  "language_info": {
   "codemirror_mode": {
    "name": "ipython",
    "version": 3
   },
   "file_extension": ".py",
   "mimetype": "text/x-python",
   "name": "python",
   "nbconvert_exporter": "python",
   "pygments_lexer": "ipython3",
   "version": "3.6.13"
  }
 },
 "nbformat": 4,
 "nbformat_minor": 2
}
